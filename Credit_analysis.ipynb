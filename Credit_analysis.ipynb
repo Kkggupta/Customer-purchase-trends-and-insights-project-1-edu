{
 "cells": [
  {
   "cell_type": "code",
   "execution_count": 30,
   "id": "93724800-36c1-4d68-bb8c-053f1611a98a",
   "metadata": {},
   "outputs": [
    {
     "name": "stdout",
     "output_type": "stream",
     "text": [
      "\n",
      " Correctly Calculated Median Age (Age >= 18): 50.7398\n",
      "\n",
      " Final Cleaned Dataset (Age < 18 Replaced with Median):\n",
      "   Customer      Age\n",
      "0        A1  50.7398\n",
      "1        A2  35.5346\n",
      "2        A3  50.7398\n",
      "3        A4  45.8203\n",
      "4        A5  69.6639\n",
      "..      ...      ...\n",
      "95      A96  29.6316\n",
      "96      A97  20.6118\n",
      "97      A98  40.5390\n",
      "98      A99  21.5887\n",
      "99     A100  23.6076\n",
      "\n",
      "[100 rows x 2 columns]\n"
     ]
    }
   ],
   "source": [
    "import pandas as pd\n",
    "df = pd.read_csv(\"customer.csv\")\n",
    "df.columns = df.columns.str.strip()\n",
    "valid_ages = df[df['Age'] >= 18]['Age'].sort_values().reset_index(drop=True)\n",
    "n = len(valid_ages)\n",
    "if n % 2 == 1:\n",
    "    median_age = valid_ages[n // 2]\n",
    "else:\n",
    "    median_age = (valid_ages[(n // 2) - 1] + valid_ages[n // 2]) / 2\n",
    "\n",
    "print(f\"\\n Correctly Calculated Median Age (Age >= 18): {median_age}\")\n",
    "\n",
    "df['Age'] = df['Age'].apply(lambda x: median_age if x < 18 else x)\n",
    "print(\"\\n Final Cleaned Dataset (Age < 18 Replaced with Median):\")\n",
    "print(df[['Customer', 'Age']])\n"
   ]
  },
  {
   "cell_type": "code",
   "execution_count": 31,
   "id": "6d3bdc06-c3dd-490a-902a-52d088f74704",
   "metadata": {},
   "outputs": [],
   "source": [
    "df.to_csv(\"customer_cleaned.csv\", index=False)\n",
    "df_cleaned = pd.read_csv(\"customer_cleaned.csv\")"
   ]
  },
  {
   "cell_type": "code",
   "execution_count": 33,
   "id": "90f90d16-ea22-4df1-b449-84e261ca2fc7",
   "metadata": {},
   "outputs": [
    {
     "name": "stdout",
     "output_type": "stream",
     "text": [
      "No customers have overspent their credit limit in any month.\n"
     ]
    }
   ],
   "source": [
    "df_customer_cleaned.columns = df_customer_cleaned.columns.str.strip()\n",
    "df_spent.columns = df_spent.columns.str.strip()\n",
    "df_spent['Month'] = pd.to_datetime(df_spent['Month'], format='%d-%b-%y', errors='coerce')\n",
    "monthly_spent = df_spent.groupby(['Customer', 'Month'])['Amount'].sum().reset_index()\n",
    "monthly_spent = monthly_spent.merge(df_customer_cleaned[['Customer', 'Limit']], on='Customer', how='left')\n",
    "monthly_spent['Amount'] = pd.to_numeric(monthly_spent['Amount'], errors='coerce')\n",
    "monthly_spent['Limit'] = pd.to_numeric(monthly_spent['Limit'], errors='coerce')\n",
    "overspent = monthly_spent[monthly_spent['Amount'] > monthly_spent['Limit']]\n",
    "if overspent.empty:\n",
    "    print(\"No customers have overspent their credit limit in any month.\")\n",
    "else:\n",
    "    print(\" Customers who overspent their credit limit in any month:\")\n",
    "    print(overspent)\n"
   ]
  },
  {
   "cell_type": "code",
   "execution_count": 35,
   "id": "213c6f58-e684-4452-82df-c65afea747c1",
   "metadata": {},
   "outputs": [
    {
     "name": "stdout",
     "output_type": "stream",
     "text": [
      "    Customer    Month   Amount\n",
      "0         A1  2004-01  1511173\n",
      "1         A1  2004-02    41381\n",
      "2         A1  2004-05   131197\n",
      "3         A1  2005-01   398404\n",
      "4         A1  2005-02  1404194\n",
      "..       ...      ...      ...\n",
      "802      A95  2004-01   347834\n",
      "803      A96  2004-01   320364\n",
      "804      A97  2004-01   164330\n",
      "805      A98  2004-01    87484\n",
      "806      A99  2004-01   476020\n",
      "\n",
      "[807 rows x 3 columns]\n"
     ]
    }
   ],
   "source": [
    "df_spent['Month'] = pd.to_datetime(df_spent['Month'], format='%d-%b-%y')\n",
    "monthly_spent = df_spent.groupby(['Customer', df_spent['Month'].dt.to_period('M')])['Amount'].sum().reset_index()\n",
    "monthly_spent = monthly_spent.merge(df_customer[['Customer']], on='Customer', how='left')\n",
    "print(monthly_spent)\n"
   ]
  },
  {
   "cell_type": "code",
   "execution_count": 36,
   "id": "f0dbb2b3-5e46-41f0-a45b-16245370745a",
   "metadata": {},
   "outputs": [
    {
     "name": "stdout",
     "output_type": "stream",
     "text": [
      "    Customer    Month   Amount\n",
      "0         A1  2004-01  1511173\n",
      "1         A1  2004-02    41381\n",
      "2         A1  2004-05   131197\n",
      "3         A1  2005-01   398404\n",
      "4         A1  2005-02  1404194\n",
      "..       ...      ...      ...\n",
      "802      A95  2004-01   347834\n",
      "803      A96  2004-01   320364\n",
      "804      A97  2004-01   164330\n",
      "805      A98  2004-01    87484\n",
      "806      A99  2004-01   476020\n",
      "\n",
      "[807 rows x 3 columns]\n"
     ]
    }
   ],
   "source": [
    "df_spent['Month'] = pd.to_datetime(df_spent['Month'], format='%d-%b-%y')\n",
    "monthly_repayment = df_spent.groupby(['Customer', df_spent['Month'].dt.to_period('M')])['Amount'].sum().reset_index()\n",
    "monthly_repayment = monthly_repayment.merge(df_customer[['Customer']], on='Customer', how='left')\n",
    "print(monthly_repayment)\n"
   ]
  },
  {
   "cell_type": "code",
   "execution_count": 44,
   "id": "b5292b14-326e-4c78-974f-76b85c1439f0",
   "metadata": {},
   "outputs": [
    {
     "name": "stdout",
     "output_type": "stream",
     "text": [
      " Top 10 Highest Paying Customers for Each Month:\n",
      "    Year-Month Customer   Amount\n",
      "0      2004-01      A37  2605015\n",
      "1      2004-01      A39  2417495\n",
      "2      2004-01      A60  2245218\n",
      "3      2004-01      A40  2233136\n",
      "4      2004-01      A22  2126633\n",
      "..         ...      ...      ...\n",
      "295    2006-12      A36   255209\n",
      "296    2006-12      A16   220259\n",
      "297    2006-12      A28   188699\n",
      "298    2006-12      A35   140924\n",
      "299    2006-12      A51   123277\n",
      "\n",
      "[300 rows x 3 columns]\n"
     ]
    }
   ],
   "source": [
    "df_spent['Month'] = pd.to_datetime(df_spent['Month'], format='%d-%b-%y')\n",
    "df_spent['Year-Month'] = df_spent['Month'].dt.to_period('M')\n",
    "monthly_spent = df_spent.groupby(['Year-Month', 'Customer'])['Amount'].sum().reset_index()\n",
    "top_10_monthly_spent = (\n",
    "    monthly_spent.sort_values(['Year-Month', 'Amount'], ascending=[True, False])\n",
    "    .groupby('Year-Month')\n",
    "    .head(10)\n",
    "    .reset_index(drop=True)\n",
    ")\n",
    "print(\" Top 10 Highest Paying Customers for Each Month:\")\n",
    "print(top_10_monthly_spent)\n"
   ]
  },
  {
   "cell_type": "code",
   "execution_count": 38,
   "id": "0566cefe-6db4-49e9-8739-2d6867007200",
   "metadata": {},
   "outputs": [
    {
     "name": "stdout",
     "output_type": "stream",
     "text": [
      "Top segment for each month based on spending:\n",
      "    Year-Month        Segment    Amount\n",
      "1      2004-01  Normal Salary  22394595\n",
      "6      2004-02  Normal Salary   2841896\n",
      "13     2004-03   Salaried_Pvt   1277308\n",
      "17     2004-04   Salaried_MNC   2262438\n",
      "20     2004-05           Govt   1593276\n",
      "26     2004-09  Normal Salary   1212599\n",
      "31     2004-11  Normal Salary   1431529\n",
      "34     2005-01           Govt   2323803\n",
      "43     2005-02  Self Employed  10745033\n",
      "47     2005-04   Salaried_Pvt   3558552\n",
      "50     2005-05  Normal Salary   9952875\n",
      "54     2005-06           Govt   2876111\n",
      "61     2005-07   Salaried_MNC   1557177\n",
      "65     2005-08  Normal Salary   2417785\n",
      "73     2005-09  Self Employed    988659\n",
      "75     2005-10  Normal Salary   1487898\n",
      "82     2005-11   Salaried_Pvt   3777193\n",
      "84     2005-12           Govt   1169055\n",
      "90     2006-01   Salaried_Pvt   1710222\n",
      "92     2006-02           Govt   3956979\n",
      "98     2006-03  Normal Salary  16877931\n",
      "106    2006-04  Self Employed   6241180\n",
      "108    2006-05  Normal Salary   5510277\n",
      "113    2006-06  Normal Salary   1643948\n",
      "117    2006-07  Normal Salary   2130229\n",
      "122    2006-08  Normal Salary    980753\n",
      "126    2006-09           Govt    998110\n",
      "132    2006-10  Normal Salary   1093330\n",
      "137    2006-11  Normal Salary   2485723\n",
      "142    2006-12  Normal Salary   1510011\n"
     ]
    }
   ],
   "source": [
    "df_spent['Month'] = pd.to_datetime(df_spent['Month'], format='%d-%b-%y')\n",
    "df_merged = df_spent.merge(df_customer_cleaned[['Customer', 'Segment']], on='Customer', how='left')\n",
    "df_merged['Year-Month'] = df_merged['Month'].dt.to_period('M')\n",
    "monthly_segment_spending = df_merged.groupby(['Year-Month', 'Segment'])['Amount'].sum().reset_index()\n",
    "top_segment_per_month = monthly_segment_spending.loc[monthly_segment_spending.groupby('Year-Month')['Amount'].idxmax()]\n",
    "print(\"Top segment for each month based on spending:\")\n",
    "print(top_segment_per_month)\n"
   ]
  },
  {
   "cell_type": "code",
   "execution_count": 39,
   "id": "23f1e1f4-7fab-475b-99fd-0e72face5aaf",
   "metadata": {},
   "outputs": [
    {
     "name": "stdout",
     "output_type": "stream",
     "text": [
      "Top age group for each month based on spending:\n",
      "    Year-Month Age Group    Amount\n",
      "3      2004-01     50-59  29135648\n",
      "9      2004-02       60+   3475097\n",
      "12     2004-03     50-59   2062436\n",
      "18     2004-04       60+   2786092\n",
      "21     2004-05     50-59   1682952\n",
      "25     2004-09     50-59   1398309\n",
      "31     2004-11       60+   1405797\n",
      "35     2005-01       60+   2690232\n",
      "39     2005-02     50-59  18200173\n",
      "44     2005-04     50-59   3781561\n",
      "50     2005-05       60+  15139051\n",
      "54     2005-06     50-59   5408163\n",
      "58     2005-07     50-59   1080132\n",
      "63     2005-08       60+   3311193\n",
      "68     2005-09       60+   1561269\n",
      "71     2005-10     50-59   1379669\n",
      "77     2005-11       60+   4246204\n",
      "80     2005-12     50-59   1413231\n",
      "84     2006-01     50-59   1991931\n",
      "89     2006-02     50-59   3869516\n",
      "95     2006-03       60+  17911703\n",
      "100    2006-04       60+  10037120\n",
      "105    2006-05       60+   5155014\n",
      "109    2006-06       60+   2457525\n",
      "113    2006-07     50-59   4390262\n",
      "118    2006-08       60+   1094582\n",
      "122    2006-09       60+   1528156\n",
      "124    2006-10     40-49   1117729\n",
      "131    2006-11       60+   2535099\n",
      "134    2006-12     50-59   1354520\n"
     ]
    }
   ],
   "source": [
    "df_spent['Month'] = pd.to_datetime(df_spent['Month'], format='%d-%b-%y')\n",
    "df_merged = df_spent.merge(df_customer_cleaned[['Customer', 'Age']], on='Customer', how='left')\n",
    "def age_group(age):\n",
    "    if age < 18:\n",
    "        return 'Under 18'\n",
    "    elif 18 <= age < 30:\n",
    "        return '18-29'\n",
    "    elif 30 <= age < 40:\n",
    "        return '30-39'\n",
    "    elif 40 <= age < 50:\n",
    "        return '40-49'\n",
    "    elif 50 <= age < 60:\n",
    "        return '50-59'\n",
    "    else:\n",
    "        return '60+'\n",
    "\n",
    "df_merged['Age Group'] = df_merged['Age'].apply(age_group)\n",
    "df_merged['Year-Month'] = df_merged['Month'].dt.to_period('M')\n",
    "monthly_age_group_spending = df_merged.groupby(['Year-Month', 'Age Group'])['Amount'].sum().reset_index()\n",
    "top_age_group_per_month = monthly_age_group_spending.loc[monthly_age_group_spending.groupby('Year-Month')['Amount'].idxmax()]\n",
    "print(\"Top age group for each month based on spending:\")\n",
    "print(top_age_group_per_month)\n",
    "\n"
   ]
  },
  {
   "cell_type": "code",
   "execution_count": 40,
   "id": "d8e0292a-8926-4161-bf9e-2ffd2200d74b",
   "metadata": {},
   "outputs": [
    {
     "name": "stdout",
     "output_type": "stream",
     "text": [
      "Most Profitable Segment for Each Month (Based on Total Spending):\n",
      "    Year-Month        Segment    Amount\n",
      "1      2004-01  Normal Salary  22394595\n",
      "6      2004-02  Normal Salary   2841896\n",
      "13     2004-03   Salaried_Pvt   1277308\n",
      "17     2004-04   Salaried_MNC   2262438\n",
      "20     2004-05           Govt   1593276\n",
      "26     2004-09  Normal Salary   1212599\n",
      "31     2004-11  Normal Salary   1431529\n",
      "34     2005-01           Govt   2323803\n",
      "43     2005-02  Self Employed  10745033\n",
      "47     2005-04   Salaried_Pvt   3558552\n",
      "50     2005-05  Normal Salary   9952875\n",
      "54     2005-06           Govt   2876111\n",
      "61     2005-07   Salaried_MNC   1557177\n",
      "65     2005-08  Normal Salary   2417785\n",
      "73     2005-09  Self Employed    988659\n",
      "75     2005-10  Normal Salary   1487898\n",
      "82     2005-11   Salaried_Pvt   3777193\n",
      "84     2005-12           Govt   1169055\n",
      "90     2006-01   Salaried_Pvt   1710222\n",
      "92     2006-02           Govt   3956979\n",
      "98     2006-03  Normal Salary  16877931\n",
      "106    2006-04  Self Employed   6241180\n",
      "108    2006-05  Normal Salary   5510277\n",
      "113    2006-06  Normal Salary   1643948\n",
      "117    2006-07  Normal Salary   2130229\n",
      "122    2006-08  Normal Salary    980753\n",
      "126    2006-09           Govt    998110\n",
      "132    2006-10  Normal Salary   1093330\n",
      "137    2006-11  Normal Salary   2485723\n",
      "142    2006-12  Normal Salary   1510011\n"
     ]
    }
   ],
   "source": [
    "df_spent['Month'] = pd.to_datetime(df_spent['Month'], format='%d-%b-%y')\n",
    "df_merged = df_spent.merge(df_customer_cleaned[['Customer', 'Segment']], on='Customer', how='left')\n",
    "df_merged['Year-Month'] = df_merged['Month'].dt.to_period('M')\n",
    "monthly_segment_spending = df_merged.groupby(['Year-Month', 'Segment'])['Amount'].sum().reset_index()\n",
    "most_profitable_per_month = monthly_segment_spending.loc[\n",
    "    monthly_segment_spending.groupby('Year-Month')['Amount'].idxmax()\n",
    "]\n",
    "\n",
    "\n",
    "print(\"Most Profitable Segment for Each Month (Based on Total Spending):\")\n",
    "print(most_profitable_per_month)\n"
   ]
  },
  {
   "cell_type": "code",
   "execution_count": 41,
   "id": "573a68d2-9381-4f5e-b111-919fddd043bd",
   "metadata": {},
   "outputs": [
    {
     "name": "stdout",
     "output_type": "stream",
     "text": [
      "Most spent category each month:\n",
      "   Year-Month          Type    Amount\n",
      "0     2004-01        CAMERA  14644502\n",
      "1     2004-02    BUS TICKET   2051643\n",
      "2     2004-03        CAMERA   1308173\n",
      "3     2004-04    BUS TICKET   1705406\n",
      "4     2004-05        RENTAL   2390532\n",
      "5     2004-09           CAR   1503815\n",
      "6     2004-11         PETRO   1453271\n",
      "7     2005-01        CAMERA   2108909\n",
      "8     2005-02  TRAIN TICKET   6041679\n",
      "9     2005-04  TRAIN TICKET   3456029\n",
      "10    2005-05         PETRO   5794860\n",
      "11    2005-06        CAMERA   4418063\n",
      "12    2005-07        CAMERA   2090935\n",
      "13    2005-08      SHOPPING   1525402\n",
      "14    2005-09    AIR TICKET   1772252\n",
      "15    2005-10    BUS TICKET   1037811\n",
      "16    2005-11         PETRO   2657720\n",
      "17    2005-12        RENTAL   1701078\n",
      "18    2006-01  MOVIE TICKET   1746835\n",
      "19    2006-02          BIKE   2636012\n",
      "20    2006-03        CAMERA   6977800\n",
      "21    2006-04         PETRO   3958966\n",
      "22    2006-05    AIR TICKET   3894931\n",
      "23    2006-06    BUS TICKET   2062148\n",
      "24    2006-07  TRAIN TICKET   2305288\n",
      "25    2006-08        RENTAL   1636189\n",
      "26    2006-09  MOVIE TICKET   1792551\n",
      "27    2006-10     JEWELLERY   1643753\n",
      "28    2006-11         PETRO   2473711\n",
      "29    2006-12       CLOTHES    944862\n"
     ]
    }
   ],
   "source": [
    "df_spent['Month'] = pd.to_datetime(df_spent['Month'], dayfirst=True)\n",
    "df_spent['Year-Month'] = df_spent['Month'].dt.to_period('M')\n",
    "df_merged = df_spent.merge(df_customer[['Customer', 'Segment']], on='Customer', how='left')\n",
    "monthly_category_spend = df_merged.groupby(['Year-Month', 'Type'])['Amount'].sum().reset_index()\n",
    "most_spent_category_monthly = monthly_category_spend.loc[\n",
    "    monthly_category_spend.groupby('Year-Month')['Amount'].idxmax()\n",
    "].reset_index(drop=True)\n",
    "print(\"Most spent category each month:\")\n",
    "print(most_spent_category_monthly)\n"
   ]
  },
  {
   "cell_type": "code",
   "execution_count": 45,
   "id": "2040b1d0-4ec5-4799-8305-327472f7940f",
   "metadata": {},
   "outputs": [
    {
     "name": "stdout",
     "output_type": "stream",
     "text": [
      "    Customer Year-Month            Due  Interest_2.9%\n",
      "0         A1    2004-01  148397.764878    4303.535181\n",
      "1         A1    2004-02       0.000000       0.000000\n",
      "2         A1    2004-05  131197.000000    3804.713000\n",
      "3         A1    2005-01  396822.030171   11507.838875\n",
      "4         A1    2005-02  204386.375450    5927.204888\n",
      "..       ...        ...            ...            ...\n",
      "802      A95    2004-01  272724.507772    7909.010725\n",
      "803      A96    2004-01  210224.985852    6096.524590\n",
      "804      A97    2004-01       0.000000       0.000000\n",
      "805      A98    2004-01       0.000000       0.000000\n",
      "806      A99    2004-01  117430.075655    3405.472194\n",
      "\n",
      "[807 rows x 4 columns]\n"
     ]
    }
   ],
   "source": [
    "\n",
    "\n",
    "df_spent['Month'] = pd.to_datetime(df_spent['Month'], format='%d-%b-%y')\n",
    "df_repay['Month'] = pd.to_datetime(df_repay['Month'], format='%d-%b-%y')\n",
    "\n",
    "df_spent['Year-Month'] = df_spent['Month'].dt.to_period('M')\n",
    "df_repay['Year-Month'] = df_repay['Month'].dt.to_period('M')\n",
    "\n",
    "monthly_spent = df_spent.groupby(['Customer', 'Year-Month'])['Amount'].sum().reset_index(name='Total_Spent')\n",
    "monthly_repay = df_repay.groupby(['Customer', 'Year-Month'])['Amount'].sum().reset_index(name='Total_Repayment')\n",
    "\n",
    "monthly_merged = pd.merge(monthly_spent, monthly_repay, on=['Customer', 'Year-Month'], how='left')\n",
    "monthly_merged['Total_Repayment'] = monthly_merged['Total_Repayment'].fillna(0)\n",
    "monthly_merged['Due'] = monthly_merged['Total_Spent'] - monthly_merged['Total_Repayment']\n",
    "monthly_merged['Due'] = monthly_merged['Due'].apply(lambda x: x if x > 0 else 0)\n",
    "monthly_merged['Interest_2.9%'] = monthly_merged['Due'] * 0.029\n",
    "print(monthly_merged[['Customer', 'Year-Month', 'Due', 'Interest_2.9%']])\n"
   ]
  },
  {
   "cell_type": "code",
   "execution_count": 43,
   "id": "860b6805-9094-4c15-abcb-46fe317b56b0",
   "metadata": {},
   "outputs": [
    {
     "name": "stdout",
     "output_type": "stream",
     "text": [
      " Monthly profit earned by bank through interest:\n",
      "   Year-Month    Bank_Profit\n",
      "0     2004-01  577723.329321\n",
      "1     2004-02  179315.876277\n",
      "2     2004-03   91546.492619\n",
      "3     2004-04  139859.165911\n",
      "4     2004-05   82054.689505\n",
      "5     2004-09   91544.407282\n",
      "6     2004-11   95829.713153\n",
      "7     2005-01  164964.767002\n",
      "8     2005-02  370686.257785\n",
      "9     2005-04  142960.573621\n",
      "10    2005-05  291676.596396\n",
      "11    2005-06  205566.613797\n",
      "12    2005-07   59396.390919\n",
      "13    2005-08  158686.629642\n",
      "14    2005-09   74482.137743\n",
      "15    2005-10   67811.882676\n",
      "16    2005-11  248955.703935\n",
      "17    2005-12   71185.431195\n",
      "18    2006-01   84424.363799\n",
      "19    2006-02  199521.316730\n",
      "20    2006-03  480587.319486\n",
      "21    2006-04  406504.665674\n",
      "22    2006-05  182230.983936\n",
      "23    2006-06  104225.188044\n",
      "24    2006-07  172635.021196\n",
      "25    2006-08   64692.941315\n",
      "26    2006-09   92836.421161\n",
      "27    2006-10   78689.996613\n",
      "28    2006-11  170797.927516\n",
      "29    2006-12   77000.655921\n"
     ]
    }
   ],
   "source": [
    "df_spent['Month'] = pd.to_datetime(df_spent['Month'], dayfirst=True)\n",
    "df_spent['Year-Month'] = df_spent['Month'].dt.to_period('M')\n",
    "\n",
    "df_repay['Month'] = pd.to_datetime(df_repay['Month'], dayfirst=True)\n",
    "df_repay['Year-Month'] = df_repay['Month'].dt.to_period('M')\n",
    "monthly_spent = df_spent.groupby(['Customer', 'Year-Month'])['Amount'].sum().reset_index(name='Total_Spent')\n",
    "monthly_repay = df_repay.groupby(['Customer', 'Year-Month'])['Amount'].sum().reset_index(name='Total_Repayment')\n",
    "\n",
    "monthly_data = pd.merge(monthly_spent, monthly_repay, on=['Customer', 'Year-Month'], how='left')\n",
    "monthly_data['Total_Repayment'] = monthly_data['Total_Repayment'].fillna(0)\n",
    "\n",
    "monthly_data['Due'] = monthly_data['Total_Spent'] - monthly_data['Total_Repayment']\n",
    "monthly_data['Due'] = monthly_data['Due'].apply(lambda x: x if x > 0 else 0)\n",
    "monthly_data['Interest'] = monthly_data['Due'] * 0.029  # 2.9% interest\n",
    "\n",
    "monthly_profit = monthly_data.groupby('Year-Month')['Interest'].sum().reset_index(name='Bank_Profit')\n",
    "\n",
    "print(\" Monthly profit earned by bank through interest:\")\n",
    "print(monthly_profit)\n"
   ]
  },
  {
   "cell_type": "code",
   "execution_count": null,
   "id": "4f53f42c-c635-496a-be2b-6877c477712b",
   "metadata": {},
   "outputs": [],
   "source": []
  }
 ],
 "metadata": {
  "kernelspec": {
   "display_name": "Python 3 (ipykernel)",
   "language": "python",
   "name": "python3"
  },
  "language_info": {
   "codemirror_mode": {
    "name": "ipython",
    "version": 3
   },
   "file_extension": ".py",
   "mimetype": "text/x-python",
   "name": "python",
   "nbconvert_exporter": "python",
   "pygments_lexer": "ipython3",
   "version": "3.13.3"
  }
 },
 "nbformat": 4,
 "nbformat_minor": 5
}
